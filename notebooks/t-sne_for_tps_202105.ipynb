{
 "cells": [
  {
   "cell_type": "markdown",
   "id": "e90937cc",
   "metadata": {},
   "source": [
    "## T-SNE for tabular playground series"
   ]
  },
  {
   "cell_type": "code",
   "execution_count": null,
   "id": "e279e6bb",
   "metadata": {},
   "outputs": [],
   "source": [
    "# imports for T-SNE\n",
    "import numpy as np\n",
    "import pandas as pd\n",
    "import seaborn as sns\n",
    "import matplotlib.pyplot as plt\n",
    "from sklearn.manifold import TSNE"
   ]
  },
  {
   "cell_type": "code",
   "execution_count": null,
   "id": "092fd599",
   "metadata": {},
   "outputs": [],
   "source": [
    "# warning and plotting preferences\n",
    "import warnings\n",
    "warnings.simplefilter(\"ignore\")\n",
    "sns.set_style(\"white\")\n",
    "sns.set_context(\"paper\")\n",
    "pal = dict(Class_1=\"#3b6e8c\", Class_2=\"#efc758\", Class_3=\"#bc5b4f\", Class_4=\"#8fa37e\")\n",
    "pd.options.display.max_columns = None\n",
    "pd.options.display.float_format = \"{:.2f}\".format"
   ]
  },
  {
   "cell_type": "code",
   "execution_count": null,
   "id": "2c91f493",
   "metadata": {},
   "outputs": [],
   "source": [
    "df = pd.read_csv(\"../data/raw/train.csv\")"
   ]
  },
  {
   "cell_type": "code",
   "execution_count": null,
   "id": "46204aeb",
   "metadata": {},
   "outputs": [],
   "source": [
    "df.head(3)"
   ]
  },
  {
   "cell_type": "code",
   "execution_count": null,
   "id": "f3e8b4a3",
   "metadata": {},
   "outputs": [],
   "source": [
    "# Taking a subsample for fast iteration\n",
    "sub_df = df.drop(columns=['id']).sample(10000, random_state=42)"
   ]
  },
  {
   "cell_type": "markdown",
   "id": "fc3ec955",
   "metadata": {},
   "source": [
    "Let the t-sne begin"
   ]
  },
  {
   "cell_type": "code",
   "execution_count": null,
   "id": "c2a6a326",
   "metadata": {},
   "outputs": [],
   "source": [
    "tsne = TSNE()\n",
    "df_embedded = tsne.fit_transform(sub_df)"
   ]
  },
  {
   "cell_type": "code",
   "execution_count": null,
   "id": "cb281293",
   "metadata": {},
   "outputs": [],
   "source": [
    "df_embedded.shape"
   ]
  },
  {
   "cell_type": "code",
   "execution_count": null,
   "id": "8d383952",
   "metadata": {},
   "outputs": [],
   "source": [
    "df_result = pd.DataFrame({'tsne_1': df_embedded[:,0], 'tsne_2': df_embedded[:,1], 'label': df.target})"
   ]
  },
  {
   "cell_type": "code",
   "execution_count": null,
   "id": "8a803abc",
   "metadata": {
    "scrolled": false
   },
   "outputs": [],
   "source": [
    "fig, ax = plt.subplots(figsize=(8, 8))\n",
    "sns.scatterplot(x='tsne_1', y='tsne_2', hue='label', data=df_result, ax=ax, s=10, palette=pal)\n",
    "sns.despine()\n",
    "plt.show()"
   ]
  },
  {
   "cell_type": "code",
   "execution_count": null,
   "id": "97107498",
   "metadata": {},
   "outputs": [],
   "source": [
    "tsne = TSNE(init='pca')\n",
    "df_embedded = tsne.fit_transform(sub_df.iloc[:,:-1])\n",
    "df_result = pd.DataFrame({'tsne_1': df_embedded[:,0], 'tsne_2': df_embedded[:,1], 'label': sub_df.target})"
   ]
  },
  {
   "cell_type": "code",
   "execution_count": null,
   "id": "4a8aaa79",
   "metadata": {},
   "outputs": [],
   "source": [
    "fig, ax = plt.subplots(figsize=(8, 8))\n",
    "sns.scatterplot(x='tsne_1', y='tsne_2', hue='label', data=df_result, ax=ax, s=10, palette=pal)\n",
    "sns.despine()\n",
    "plt.show()"
   ]
  },
  {
   "cell_type": "code",
   "execution_count": null,
   "id": "29cf506b",
   "metadata": {},
   "outputs": [],
   "source": [
    "sns.jointplot(x='tsne_1', y='tsne_2', hue='label', data=df_result, s=10, palette=pal)\n",
    "plt.show()"
   ]
  },
  {
   "cell_type": "code",
   "execution_count": null,
   "id": "2ed6ea95",
   "metadata": {},
   "outputs": [],
   "source": [
    "# Next, to look at different values of perplexity, iteration and\n",
    "# perplexities = [5, 30, 50, 100]"
   ]
  }
 ],
 "metadata": {
  "kernelspec": {
   "display_name": "Python 3",
   "language": "python",
   "name": "python3"
  },
  "language_info": {
   "codemirror_mode": {
    "name": "ipython",
    "version": 3
   },
   "file_extension": ".py",
   "mimetype": "text/x-python",
   "name": "python",
   "nbconvert_exporter": "python",
   "pygments_lexer": "ipython3",
   "version": "3.8.8"
  }
 },
 "nbformat": 4,
 "nbformat_minor": 5
}
