{
 "cells": [
  {
   "cell_type": "markdown",
   "id": "fourth-cooling",
   "metadata": {},
   "source": [
    "## May 2021 kaggle TPS\n",
    "\n",
    "This notebook carries out initial exploration of the training data to get an understanding of the distribution and completeness of each column and relationship to the target.\n",
    "\n",
    "Data [description](https://www.kaggle.com/c/tabular-playground-series-may-2021/data): \"The dataset is... synthetic, but based on a real dataset and generated using a CTGAN. The original dataset deals with predicting the category on an eCommerce product given various attributes about the listing. Although the features are anonymized, they have properties relating to real-world features\"."
   ]
  },
  {
   "cell_type": "code",
   "execution_count": null,
   "id": "worthy-tuesday",
   "metadata": {},
   "outputs": [],
   "source": [
    "# imports for EDA\n",
    "import numpy as np\n",
    "import pandas as pd\n",
    "import seaborn as sns\n",
    "import matplotlib.pyplot as plt"
   ]
  },
  {
   "cell_type": "code",
   "execution_count": null,
   "id": "prompt-novel",
   "metadata": {},
   "outputs": [],
   "source": [
    "# warning and plotting preferences\n",
    "import warnings\n",
    "warnings.simplefilter(\"ignore\")\n",
    "sns.set_style(\"whitegrid\")\n",
    "sns.set_context(\"paper\")\n",
    "pd.options.display.max_columns = None\n",
    "pd.options.display.float_format = \"{:.2f}\".format"
   ]
  },
  {
   "cell_type": "markdown",
   "id": "eligible-regulation",
   "metadata": {},
   "source": [
    "### EDA\n",
    "\n",
    "No idea what to expect and unfamiliar with the competition this data was based on - here goes:"
   ]
  },
  {
   "cell_type": "code",
   "execution_count": null,
   "id": "egyptian-naples",
   "metadata": {},
   "outputs": [],
   "source": [
    "df = pd.read_csv(\"../data/raw/train.csv\")"
   ]
  },
  {
   "cell_type": "code",
   "execution_count": null,
   "id": "great-disability",
   "metadata": {},
   "outputs": [],
   "source": [
    "df.head()"
   ]
  },
  {
   "cell_type": "code",
   "execution_count": null,
   "id": "exclusive-template",
   "metadata": {
    "scrolled": true
   },
   "outputs": [],
   "source": [
    "df.info()"
   ]
  },
  {
   "cell_type": "code",
   "execution_count": null,
   "id": "respective-interim",
   "metadata": {
    "scrolled": true
   },
   "outputs": [],
   "source": [
    "df.describe().T"
   ]
  },
  {
   "cell_type": "markdown",
   "id": "proper-spyware",
   "metadata": {},
   "source": [
    "ID column aside, we're looking at a sparse matrix of 50 columns. No null values, although curiously a couple of columns contain negatives. There is a maximum of 66."
   ]
  },
  {
   "cell_type": "code",
   "execution_count": null,
   "id": "5d7543c3",
   "metadata": {
    "scrolled": true
   },
   "outputs": [],
   "source": [
    "zed = df.drop(columns=['id', 'target']).to_numpy()\n",
    "plt.spy(zed.T, precision=0, aspect='auto')\n",
    "plt.autoscale()\n",
    "plt.show()"
   ]
  },
  {
   "cell_type": "code",
   "execution_count": null,
   "id": "gothic-vitamin",
   "metadata": {
    "scrolled": false
   },
   "outputs": [],
   "source": [
    "df.target.value_counts()"
   ]
  },
  {
   "cell_type": "code",
   "execution_count": null,
   "id": "c741c5f7",
   "metadata": {},
   "outputs": [],
   "source": [
    "sns.countplot(data=df, x=\"target\")\n",
    "plt.show()"
   ]
  },
  {
   "cell_type": "markdown",
   "id": "meaningful-annual",
   "metadata": {},
   "source": [
    "Focusing on the target, we have four unbalanced classes. Class 1, 4, and 3 respectively making up less than 9%, 13% and 22% of the total. Revisit the sparsity plot by class to see if there are any obvious patterns that stand out:"
   ]
  },
  {
   "cell_type": "code",
   "execution_count": null,
   "id": "3a6f9d99",
   "metadata": {
    "scrolled": true
   },
   "outputs": [],
   "source": [
    "zed1 = df[df['target'] == 'Class_1'].drop(columns=['id', 'target']).to_numpy()\n",
    "zed2 = df[df['target'] == 'Class_2'].drop(columns=['id', 'target']).to_numpy()\n",
    "zed3 = df[df['target'] == 'Class_3'].drop(columns=['id', 'target']).to_numpy()\n",
    "zed4 = df[df['target'] == 'Class_4'].drop(columns=['id', 'target']).to_numpy()\n",
    "\n",
    "fig, axs = plt.subplots(2, 2, sharex=False, sharey=True)\n",
    "\n",
    "axs[0, 0].spy(zed1.T, aspect='auto')\n",
    "axs[0, 0].set_title(\"Class 1\")\n",
    "\n",
    "axs[0, 1].spy(zed2.T, aspect='auto')\n",
    "axs[0, 1].set_title(\"Class 2\")\n",
    "\n",
    "axs[1, 0].spy(zed3.T, aspect='auto')\n",
    "axs[1, 0].set_title(\"Class 3\")\n",
    "\n",
    "axs[1, 1].spy(zed4.T, aspect='auto')\n",
    "axs[1, 1].set_title(\"Class 4\")\n",
    "\n",
    "plt.tight_layout()\n",
    "plt.show()"
   ]
  },
  {
   "cell_type": "markdown",
   "id": "e061e220",
   "metadata": {},
   "source": [
    "Not entirely sure what results I was expecting, but the only thing clear is that there is not a simple relationship between features and target."
   ]
  },
  {
   "cell_type": "code",
   "execution_count": null,
   "id": "3b474b98",
   "metadata": {},
   "outputs": [],
   "source": []
  }
 ],
 "metadata": {
  "kernelspec": {
   "display_name": "Python 3",
   "language": "python",
   "name": "python3"
  },
  "language_info": {
   "codemirror_mode": {
    "name": "ipython",
    "version": 3
   },
   "file_extension": ".py",
   "mimetype": "text/x-python",
   "name": "python",
   "nbconvert_exporter": "python",
   "pygments_lexer": "ipython3",
   "version": "3.8.8"
  }
 },
 "nbformat": 4,
 "nbformat_minor": 5
}
