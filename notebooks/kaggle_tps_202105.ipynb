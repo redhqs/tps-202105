{
 "cells": [
  {
   "cell_type": "markdown",
   "id": "fourth-cooling",
   "metadata": {},
   "source": [
    "## May 2021 kaggle TPS\n",
    "\n",
    "This notebook carries out initial exploration of the training data to get an understanding of the distribution and completeness of each column and relationship to the target.\n",
    "\n",
    "Data [description](https://www.kaggle.com/c/tabular-playground-series-may-2021/data): \"The dataset is... synthetic, but based on a real dataset and generated using a CTGAN. The original dataset deals with predicting the category on an eCommerce product given various attributes about the listing. Although the features are anonymized, they have properties relating to real-world features\"."
   ]
  },
  {
   "cell_type": "code",
   "execution_count": null,
   "id": "worthy-tuesday",
   "metadata": {},
   "outputs": [],
   "source": [
    "# imports for EDA\n",
    "import numpy as np\n",
    "import pandas as pd\n",
    "import seaborn as sns\n",
    "import matplotlib.pyplot as plt"
   ]
  },
  {
   "cell_type": "code",
   "execution_count": null,
   "id": "prompt-novel",
   "metadata": {},
   "outputs": [],
   "source": [
    "# warning and plotting preferences\n",
    "import warnings\n",
    "warnings.simplefilter(\"ignore\")\n",
    "sns.set_style(\"whitegrid\")\n",
    "sns.set_context(\"paper\")"
   ]
  },
  {
   "cell_type": "markdown",
   "id": "eligible-regulation",
   "metadata": {},
   "source": [
    "### EDA\n",
    "\n",
    "No idea what to expect and unfamiliar with the competition this data was based on - here we go!"
   ]
  },
  {
   "cell_type": "code",
   "execution_count": null,
   "id": "egyptian-naples",
   "metadata": {},
   "outputs": [],
   "source": [
    "df = pd.read_csv(\"../data/raw/train.csv\")\n",
    "pd.options.display.max_columns = None"
   ]
  },
  {
   "cell_type": "code",
   "execution_count": null,
   "id": "great-disability",
   "metadata": {},
   "outputs": [],
   "source": [
    "df.head()"
   ]
  },
  {
   "cell_type": "code",
   "execution_count": null,
   "id": "exclusive-template",
   "metadata": {},
   "outputs": [],
   "source": [
    "df.info()"
   ]
  },
  {
   "cell_type": "code",
   "execution_count": null,
   "id": "respective-interim",
   "metadata": {},
   "outputs": [],
   "source": [
    "df.describe()"
   ]
  },
  {
   "cell_type": "markdown",
   "id": "proper-spyware",
   "metadata": {},
   "source": [
    "ID column aside, we're looking at a sparse matrix of 50 columns. No null values, although a couple of columns contain negatives and reach a maximum of 66."
   ]
  },
  {
   "cell_type": "code",
   "execution_count": null,
   "id": "gothic-vitamin",
   "metadata": {},
   "outputs": [],
   "source": [
    "df.target.value_counts()"
   ]
  },
  {
   "cell_type": "markdown",
   "id": "meaningful-annual",
   "metadata": {},
   "source": [
    "Focusing on the target, we have four unbalanced classes. Class 1, along with classes 3 and 4 to a lesser extent form a minority."
   ]
  }
 ],
 "metadata": {
  "kernelspec": {
   "display_name": "Python 3",
   "language": "python",
   "name": "python3"
  },
  "language_info": {
   "codemirror_mode": {
    "name": "ipython",
    "version": 3
   },
   "file_extension": ".py",
   "mimetype": "text/x-python",
   "name": "python",
   "nbconvert_exporter": "python",
   "pygments_lexer": "ipython3",
   "version": "3.9.1"
  }
 },
 "nbformat": 4,
 "nbformat_minor": 5
}
